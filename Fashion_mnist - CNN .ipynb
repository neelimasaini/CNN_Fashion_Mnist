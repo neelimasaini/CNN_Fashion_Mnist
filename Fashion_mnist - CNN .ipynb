{
 "cells": [
  {
   "cell_type": "code",
   "execution_count": 1,
   "metadata": {
    "id": "Pw1L24eMUmzc"
   },
   "outputs": [
    {
     "name": "stderr",
     "output_type": "stream",
     "text": [
      "Using TensorFlow backend.\n"
     ]
    }
   ],
   "source": [
    "import numpy as np\n",
    "import pandas as pd\n",
    "import tensorflow as tf\n",
    "import keras\n",
    "from keras.models import Sequential\n",
    "from keras.layers import Dense, Flatten, Dropout\n",
    "from keras.datasets import fashion_mnist\n",
    "import matplotlib.pyplot as plt"
   ]
  },
  {
   "cell_type": "code",
   "execution_count": 2,
   "metadata": {
    "colab": {
     "base_uri": "https://localhost:8080/"
    },
    "id": "0Y1H7joIYgRH",
    "outputId": "07ad35ac-38dd-4af1-cea1-b5225e7caec1"
   },
   "outputs": [
    {
     "name": "stdout",
     "output_type": "stream",
     "text": [
      "Train x (60000, 28, 28)\n",
      "Test x (10000, 28, 28)\n",
      "Train y (60000,)\n",
      "Test y (10000,)\n"
     ]
    }
   ],
   "source": [
    "(train_x, train_y), (test_x, test_y) = fashion_mnist.load_data()\n",
    "\n",
    "print(\"Train x\",  train_x.shape)\n",
    "print(\"Test x\",  test_x.shape)\n",
    "print(\"Train y\",  train_y.shape)\n",
    "print(\"Test y\",  test_y.shape)"
   ]
  },
  {
   "cell_type": "code",
   "execution_count": 4,
   "metadata": {},
   "outputs": [
    {
     "data": {
      "text/plain": [
       "<matplotlib.image.AxesImage at 0x22a58d66908>"
      ]
     },
     "execution_count": 4,
     "metadata": {},
     "output_type": "execute_result"
    },
    {
     "data": {
      "image/png": "[encoded data removed]",
      "text/plain": [
       "<Figure size 432x288 with 1 Axes>"
      ]
     },
     "metadata": {
      "needs_background": "light"
     },
     "output_type": "display_data"
    }
   ],
   "source": [
    "# Show one of the images from the training dataset\n",
    "plt.imshow(train_x[40])"
   ]
  },
  {
   "cell_type": "code",
   "execution_count": 5,
   "metadata": {
    "colab": {
     "base_uri": "https://localhost:8080/",
     "height": 354
    },
    "id": "ZwrrObtxdF-V",
    "outputId": "21f0315b-3112-4037-8ec0-5d59e2b9dd7a"
   },
   "outputs": [
    {
     "data": {
      "image/png": "[encoded data removed]",
      "text/plain": [
       "<Figure size 1080x1080 with 10 Axes>"
      ]
     },
     "metadata": {},
     "output_type": "display_data"
    }
   ],
   "source": [
    "#Labeling the classes\n",
    "class_names = ['T-shirt/top', 'Trouser', 'Pullover', 'Dress', 'Coat', 'Sandal', 'Shirt', 'Sneaker', 'Bag', 'Ankle boot']\n",
    "\n",
    "#Display first 10 images\n",
    "import matplotlib.pyplot as plt\n",
    "%matplotlib inline\n",
    "plt.figure(figsize=(15,15))\n",
    "for i in range(10):\n",
    "    plt.subplot(5,5, i+1)\n",
    "    plt.xticks([])\n",
    "    plt.yticks([])\n",
    "    plt.grid(False)\n",
    "    plt.imshow(train_x[i], cmap=plt.cm.binary)\n",
    "    plt.xlabel(class_names[train_y[i]])"
   ]
  },
  {
   "cell_type": "code",
   "execution_count": 6,
   "metadata": {
    "colab": {
     "base_uri": "https://localhost:8080/"
    },
    "id": "Cz0lhce0nDFx",
    "outputId": "e79d819b-fd6e-4594-c524-5ce8e77aaa2e"
   },
   "outputs": [
    {
     "name": "stdout",
     "output_type": "stream",
     "text": [
      "Shape before reshaping (60000, 28, 28) (10000, 28, 28)\n",
      "Shape after reshaping (60000, 28, 28, 1) (10000, 28, 28, 1)\n"
     ]
    }
   ],
   "source": [
    "#Normalize Data\n",
    "train_x = train_x / 255\n",
    "test_x = test_x / 255\n",
    "print(\"Shape before reshaping\", train_x.shape, test_x.shape)\n",
    "\n",
    "#Reshape Data\n",
    "train_x = train_x.reshape(-1, 28, 28, 1)\n",
    "test_x = test_x.reshape(-1, 28, 28, 1)\n",
    "print(\"Shape after reshaping\", train_x.shape, test_x.shape)\n",
    "\n",
    "#One hot encoding\n",
    "from keras.utils import to_categorical\n",
    "train_y = to_categorical(train_y)\n",
    "test_y = to_categorical(test_y)"
   ]
  },
  {
   "cell_type": "code",
   "execution_count": 7,
   "metadata": {
    "colab": {
     "base_uri": "https://localhost:8080/"
    },
    "id": "Glx9igMVpQEb",
    "outputId": "2630760f-ece5-4f7a-e409-04a6cae95154"
   },
   "outputs": [
    {
     "data": {
      "text/plain": [
       "((48000, 28, 28, 1), (12000, 28, 28, 1), (48000, 10), (12000, 10))"
      ]
     },
     "execution_count": 7,
     "metadata": {},
     "output_type": "execute_result"
    }
   ],
   "source": [
    "from sklearn.model_selection import train_test_split\n",
    "x_train, x_test, y_train, y_test = train_test_split(train_x, train_y, test_size=0.2, random_state=13)\n",
    "x_train.shape, x_test.shape, y_train.shape, y_test.shape"
   ]
  },
  {
   "cell_type": "code",
   "execution_count": 8,
   "metadata": {
    "id": "Qk3PT8QAqPC-"
   },
   "outputs": [],
   "source": [
    "from keras.models import Input, Model\n",
    "from keras.layers import Conv2D, MaxPooling2D\n",
    "from keras.layers.normalization import BatchNormalization\n",
    "from keras.layers.advanced_activations import LeakyReLU"
   ]
  },
  {
   "cell_type": "code",
   "execution_count": 9,
   "metadata": {
    "id": "gYem9fnoq6pC"
   },
   "outputs": [],
   "source": [
    "def fash_mnist(hyperP):\n",
    "    try:\n",
    "        modelH = Sequential()\n",
    "        for i in range(0, len(hyperP[\"Layers\"])):\n",
    "            modelH.add(hyperP[\"Layers\"][i])\n",
    "        opt = hyperP[\"opt\"]\n",
    "        modelH.compile(optimizer=\"adam\", loss=\"categorical_crossentropy\", metrics=[\"accuracy\"])\n",
    "        modelH.summary()\n",
    "    \n",
    "    except Exception as ke:\n",
    "        print(\"Key is not defined\", ke)\n",
    "        model=None\n",
    " \n",
    "    finally:\n",
    "        return modelH\n"
   ]
  },
  {
   "cell_type": "code",
   "execution_count": 10,
   "metadata": {
    "colab": {
     "base_uri": "https://localhost:8080/"
    },
    "id": "PnO_C0NCvuU9",
    "outputId": "c1f9edde-5f27-4543-cb7d-0f7b54722324"
   },
   "outputs": [
    {
     "name": "stdout",
     "output_type": "stream",
     "text": [
      "WARNING:tensorflow:From C:\\Users\\Anu\\.conda\\envs\\tensorflow\\lib\\site-packages\\keras\\backend\\tensorflow_backend.py:74: The name tf.get_default_graph is deprecated. Please use tf.compat.v1.get_default_graph instead.\n",
      "\n",
      "WARNING:tensorflow:From C:\\Users\\Anu\\.conda\\envs\\tensorflow\\lib\\site-packages\\keras\\backend\\tensorflow_backend.py:517: The name tf.placeholder is deprecated. Please use tf.compat.v1.placeholder instead.\n",
      "\n",
      "WARNING:tensorflow:From C:\\Users\\Anu\\.conda\\envs\\tensorflow\\lib\\site-packages\\keras\\backend\\tensorflow_backend.py:4138: The name tf.random_uniform is deprecated. Please use tf.random.uniform instead.\n",
      "\n",
      "WARNING:tensorflow:From C:\\Users\\Anu\\.conda\\envs\\tensorflow\\lib\\site-packages\\keras\\backend\\tensorflow_backend.py:3976: The name tf.nn.max_pool is deprecated. Please use tf.nn.max_pool2d instead.\n",
      "\n",
      "WARNING:tensorflow:From C:\\Users\\Anu\\.conda\\envs\\tensorflow\\lib\\site-packages\\keras\\backend\\tensorflow_backend.py:133: The name tf.placeholder_with_default is deprecated. Please use tf.compat.v1.placeholder_with_default instead.\n",
      "\n",
      "WARNING:tensorflow:From C:\\Users\\Anu\\.conda\\envs\\tensorflow\\lib\\site-packages\\keras\\backend\\tensorflow_backend.py:3445: calling dropout (from tensorflow.python.ops.nn_ops) with keep_prob is deprecated and will be removed in a future version.\n",
      "Instructions for updating:\n",
      "Please use `rate` instead of `keep_prob`. Rate should be set to `rate = 1 - keep_prob`.\n",
      "WARNING:tensorflow:From C:\\Users\\Anu\\.conda\\envs\\tensorflow\\lib\\site-packages\\keras\\optimizers.py:790: The name tf.train.Optimizer is deprecated. Please use tf.compat.v1.train.Optimizer instead.\n",
      "\n",
      "WARNING:tensorflow:From C:\\Users\\Anu\\.conda\\envs\\tensorflow\\lib\\site-packages\\keras\\backend\\tensorflow_backend.py:3295: The name tf.log is deprecated. Please use tf.math.log instead.\n",
      "\n",
      "_________________________________________________________________\n",
      "Layer (type)                 Output Shape              Param #   \n",
      "=================================================================\n",
      "conv2d_1 (Conv2D)            (None, 28, 28, 32)        320       \n",
      "_________________________________________________________________\n",
      "leaky_re_lu_1 (LeakyReLU)    (None, 28, 28, 32)        0         \n",
      "_________________________________________________________________\n",
      "max_pooling2d_1 (MaxPooling2 (None, 14, 14, 32)        0         \n",
      "_________________________________________________________________\n",
      "dropout_1 (Dropout)          (None, 14, 14, 32)        0         \n",
      "_________________________________________________________________\n",
      "conv2d_2 (Conv2D)            (None, 14, 14, 64)        18496     \n",
      "_________________________________________________________________\n",
      "leaky_re_lu_2 (LeakyReLU)    (None, 14, 14, 64)        0         \n",
      "_________________________________________________________________\n",
      "max_pooling2d_2 (MaxPooling2 (None, 7, 7, 64)          0         \n",
      "_________________________________________________________________\n",
      "conv2d_3 (Conv2D)            (None, 7, 7, 128)         73856     \n",
      "_________________________________________________________________\n",
      "leaky_re_lu_3 (LeakyReLU)    (None, 7, 7, 128)         0         \n",
      "_________________________________________________________________\n",
      "max_pooling2d_3 (MaxPooling2 (None, 4, 4, 128)         0         \n",
      "_________________________________________________________________\n",
      "flatten_1 (Flatten)          (None, 2048)              0         \n",
      "_________________________________________________________________\n",
      "dense_1 (Dense)              (None, 128)               262272    \n",
      "_________________________________________________________________\n",
      "leaky_re_lu_4 (LeakyReLU)    (None, 128)               0         \n",
      "_________________________________________________________________\n",
      "dense_2 (Dense)              (None, 10)                1290      \n",
      "=================================================================\n",
      "Total params: 356,234\n",
      "Trainable params: 356,234\n",
      "Non-trainable params: 0\n",
      "_________________________________________________________________\n"
     ]
    }
   ],
   "source": [
    "num_classes = 10\n",
    "HyperParam1 = {\n",
    "       \n",
    " #Training Level Hyper Params\n",
    "    \"epochs\": 10,\n",
    "    \"batchSize\": 2000,\n",
    "    \"opt\": keras.optimizers.Adam,\n",
    "    #Network Level HyperParam\n",
    "\n",
    "    \"Layers\" : \n",
    "        [\n",
    "        Conv2D(32, kernel_size=(3, 3), activation='linear', input_shape=(28,28,1),padding='same'),\n",
    "        LeakyReLU(alpha=0.1),\n",
    "        MaxPooling2D((2, 2),padding='same'),\n",
    "        Dropout(0.3),\n",
    "        Conv2D(64, (3, 3), activation='linear', padding='same'),\n",
    "        LeakyReLU(alpha=0.1),\n",
    "        MaxPooling2D(pool_size=(2, 2),padding='same'),\n",
    "        Conv2D(128, (3, 3), activation='linear', padding='same'),\n",
    "        LeakyReLU(alpha=0.1),\n",
    "        MaxPooling2D(pool_size=(2, 2),padding='same'),\n",
    "        Flatten(),\n",
    "        Dense(128, activation='linear'),\n",
    "        LeakyReLU(alpha=0.1),\n",
    "        Dense(num_classes, activation='softmax'),]    \n",
    "}\n",
    "newModel1 = fash_mnist(HyperParam1)"
   ]
  },
  {
   "cell_type": "code",
   "execution_count": 11,
   "metadata": {
    "colab": {
     "base_uri": "https://localhost:8080/"
    },
    "id": "leZpEGL8r1vS",
    "outputId": "f292a7d2-ab4f-4d1a-82fb-c5390654a5bc"
   },
   "outputs": [
    {
     "name": "stdout",
     "output_type": "stream",
     "text": [
      "WARNING:tensorflow:From C:\\Users\\Anu\\.conda\\envs\\tensorflow\\lib\\site-packages\\tensorflow_core\\python\\ops\\math_grad.py:1424: where (from tensorflow.python.ops.array_ops) is deprecated and will be removed in a future version.\n",
      "Instructions for updating:\n",
      "Use tf.where in 2.0, which has the same broadcast rule as np.where\n",
      "WARNING:tensorflow:From C:\\Users\\Anu\\.conda\\envs\\tensorflow\\lib\\site-packages\\keras\\backend\\tensorflow_backend.py:986: The name tf.assign_add is deprecated. Please use tf.compat.v1.assign_add instead.\n",
      "\n",
      "WARNING:tensorflow:From C:\\Users\\Anu\\.conda\\envs\\tensorflow\\lib\\site-packages\\keras\\backend\\tensorflow_backend.py:973: The name tf.assign is deprecated. Please use tf.compat.v1.assign instead.\n",
      "\n",
      "WARNING:tensorflow:From C:\\Users\\Anu\\.conda\\envs\\tensorflow\\lib\\site-packages\\keras\\backend\\tensorflow_backend.py:2741: The name tf.Session is deprecated. Please use tf.compat.v1.Session instead.\n",
      "\n",
      "Train on 38400 samples, validate on 9600 samples\n",
      "Epoch 1/5\n",
      "WARNING:tensorflow:From C:\\Users\\Anu\\.conda\\envs\\tensorflow\\lib\\site-packages\\keras\\backend\\tensorflow_backend.py:174: The name tf.get_default_session is deprecated. Please use tf.compat.v1.get_default_session instead.\n",
      "\n",
      "WARNING:tensorflow:From C:\\Users\\Anu\\.conda\\envs\\tensorflow\\lib\\site-packages\\keras\\backend\\tensorflow_backend.py:181: The name tf.ConfigProto is deprecated. Please use tf.compat.v1.ConfigProto instead.\n",
      "\n",
      "WARNING:tensorflow:From C:\\Users\\Anu\\.conda\\envs\\tensorflow\\lib\\site-packages\\keras\\backend\\tensorflow_backend.py:190: The name tf.global_variables is deprecated. Please use tf.compat.v1.global_variables instead.\n",
      "\n",
      "WARNING:tensorflow:From C:\\Users\\Anu\\.conda\\envs\\tensorflow\\lib\\site-packages\\keras\\backend\\tensorflow_backend.py:199: The name tf.is_variable_initialized is deprecated. Please use tf.compat.v1.is_variable_initialized instead.\n",
      "\n",
      "WARNING:tensorflow:From C:\\Users\\Anu\\.conda\\envs\\tensorflow\\lib\\site-packages\\keras\\backend\\tensorflow_backend.py:206: The name tf.variables_initializer is deprecated. Please use tf.compat.v1.variables_initializer instead.\n",
      "\n",
      "38400/38400 [==============================] - 79s 2ms/step - loss: 1.4035 - acc: 0.4939 - val_loss: 0.9440 - val_acc: 0.6221\n",
      "Epoch 2/5\n",
      "38400/38400 [==============================] - 75s 2ms/step - loss: 0.7858 - acc: 0.7062 - val_loss: 0.6859 - val_acc: 0.7473\n",
      "Epoch 3/5\n",
      "38400/38400 [==============================] - 75s 2ms/step - loss: 0.6316 - acc: 0.7683 - val_loss: 0.5714 - val_acc: 0.8008\n",
      "Epoch 4/5\n",
      "38400/38400 [==============================] - 77s 2ms/step - loss: 0.5385 - acc: 0.8036 - val_loss: 0.4932 - val_acc: 0.8279\n",
      "Epoch 5/5\n",
      "38400/38400 [==============================] - 78s 2ms/step - loss: 0.4782 - acc: 0.8278 - val_loss: 0.4456 - val_acc: 0.8435\n"
     ]
    }
   ],
   "source": [
    "history = newModel1.fit(x_train, y_train, batch_size=HyperParam1['batchSize'], epochs=HyperParam1['epochs'], verbose = 1, validation_split=0.2)"
   ]
  },
  {
   "cell_type": "code",
   "execution_count": 12,
   "metadata": {
    "colab": {
     "base_uri": "https://localhost:8080/"
    },
    "id": "cHFtlOpRbIif",
    "outputId": "869a9986-15f7-4b65-df03-a172eb436b4a"
   },
   "outputs": [
    {
     "name": "stdout",
     "output_type": "stream",
     "text": [
      "48000/48000 [==============================] - 35s 729us/step\n",
      "Train Loss:  0.4447900740802288 Train Accuracy:  0.8430208333333333\n",
      "12000/12000 [==============================] - 9s 718us/step\n",
      "Test Loss:  0.4648197470108668 Test Accuracy:  0.8328333333333333\n"
     ]
    }
   ],
   "source": [
    "#Train - Accuracy & Loss\n",
    "train_loss, train_acuracy =newModel1.evaluate(x_train, y_train, verbose=1)\n",
    "print (\"Train Loss: \",train_loss, \"Train Accuracy: \",train_acuracy)\n",
    "\n",
    "#Test - Accuracy & Loss\n",
    "test_loss, test_acc = newModel1.evaluate(x_test, y_test, verbose=1)\n",
    "print (\"Test Loss: \", test_loss, \"Test Accuracy: \", test_acc)"
   ]
  },
  {
   "cell_type": "code",
   "execution_count": 13,
   "metadata": {
    "colab": {
     "base_uri": "https://localhost:8080/",
     "height": 297
    },
    "id": "G60EQiAhbIpg",
    "outputId": "886ca13d-923a-4ae7-f88f-90d0e4b46c72"
   },
   "outputs": [
    {
     "data": {
      "text/plain": [
       "<matplotlib.legend.Legend at 0x22a542ff1c8>"
      ]
     },
     "execution_count": 13,
     "metadata": {},
     "output_type": "execute_result"
    },
    {
     "data": {
      "image/png": "[encoded data removed]",
      "text/plain": [
       "<Figure size 432x288 with 1 Axes>"
      ]
     },
     "metadata": {
      "needs_background": "light"
     },
     "output_type": "display_data"
    }
   ],
   "source": [
    "plt.plot(history.history['acc'], label='acc')\n",
    "plt.plot(history.history['val_acc'], label='val_acc')\n",
    "plt.xlabel(\"epoch\")\n",
    "plt.ylabel(\"Accuracy\")\n",
    "plt.legend(['train', 'test'], loc='upper left')"
   ]
  },
  {
   "cell_type": "code",
   "execution_count": 14,
   "metadata": {
    "colab": {
     "base_uri": "https://localhost:8080/",
     "height": 297
    },
    "id": "yjEdr5SpRrep",
    "outputId": "c0793e9f-a167-49d7-f384-b85eda417e3c"
   },
   "outputs": [
    {
     "data": {
      "text/plain": [
       "<matplotlib.legend.Legend at 0x22a543751c8>"
      ]
     },
     "execution_count": 14,
     "metadata": {},
     "output_type": "execute_result"
    },
    {
     "data": {
      "image/png": "[encoded data removed]",
      "text/plain": [
       "<Figure size 432x288 with 1 Axes>"
      ]
     },
     "metadata": {
      "needs_background": "light"
     },
     "output_type": "display_data"
    }
   ],
   "source": [
    "plt.plot(history.history['loss'], label='loss')\n",
    "plt.plot(history.history['val_loss'], label='val_loss')\n",
    "plt.xlabel(\"epoch\")\n",
    "plt.ylabel(\"loss\")\n",
    "plt.legend(['train', 'test'], loc='lower left')"
   ]
  },
  {
   "cell_type": "code",
   "execution_count": 15,
   "metadata": {
    "colab": {
     "base_uri": "https://localhost:8080/"
    },
    "id": "hahEncqFgfSl",
    "outputId": "783bf2fb-2974-4f92-f911-259af325506a"
   },
   "outputs": [],
   "source": [
    "pred=newModel1.predict(x_test)"
   ]
  },
  {
   "cell_type": "code",
   "execution_count": 16,
   "metadata": {
    "id": "S5o4fdkhKqaL"
   },
   "outputs": [
    {
     "data": {
      "text/plain": [
       "array([2, 7, 5, ..., 6, 6, 7], dtype=int64)"
      ]
     },
     "execution_count": 16,
     "metadata": {},
     "output_type": "execute_result"
    }
   ],
   "source": [
    "pred = np.argmax(np.round(pred),axis=1)\n",
    "pred"
   ]
  },
  {
   "cell_type": "code",
   "execution_count": 17,
   "metadata": {
    "id": "tbi2ihAfKw33"
   },
   "outputs": [],
   "source": [
    "# Saving best model using Keras Callback \n",
    "cb = [keras.callbacks.ModelCheckpoint(filepath=\"my_modBiLSTM_BestValAcc.h5\", monitor=\"val_acc\",\n",
    "                                               save_best_only=True),]"
   ]
  },
  {
   "cell_type": "code",
   "execution_count": 18,
   "metadata": {
    "colab": {
     "base_uri": "https://localhost:8080/"
    },
    "id": "yLucBk-zTsnC",
    "outputId": "96a37f2a-665d-43ce-b6f4-7cc9ec04d564"
   },
   "outputs": [
    {
     "name": "stdout",
     "output_type": "stream",
     "text": [
      "Train on 38400 samples, validate on 9600 samples\n",
      "Epoch 1/5\n",
      "38400/38400 [==============================] - 74s 2ms/step - loss: 0.4456 - acc: 0.8384 - val_loss: 0.4166 - val_acc: 0.8523\n",
      "Epoch 2/5\n",
      "38400/38400 [==============================] - 70s 2ms/step - loss: 0.4260 - acc: 0.8458 - val_loss: 0.3868 - val_acc: 0.8659\n",
      "Epoch 3/5\n",
      "38400/38400 [==============================] - 79s 2ms/step - loss: 0.3881 - acc: 0.8604 - val_loss: 0.3735 - val_acc: 0.8699\n",
      "Epoch 4/5\n",
      "38400/38400 [==============================] - 68s 2ms/step - loss: 0.3747 - acc: 0.8654 - val_loss: 0.3610 - val_acc: 0.8752\n",
      "Epoch 5/5\n",
      "38400/38400 [==============================] - 71s 2ms/step - loss: 0.3594 - acc: 0.8708 - val_loss: 0.3429 - val_acc: 0.8797\n"
     ]
    },
    {
     "data": {
      "text/plain": [
       "<keras.callbacks.History at 0x22a543e2a08>"
      ]
     },
     "execution_count": 18,
     "metadata": {},
     "output_type": "execute_result"
    }
   ],
   "source": [
    "newModel1.fit(x_train, y_train, batch_size=HyperParam1['batchSize'], epochs=HyperParam1['epochs'], verbose = 1, validation_split=0.2, callbacks=cb)"
   ]
  },
  {
   "cell_type": "code",
   "execution_count": 19,
   "metadata": {
    "id": "sCUgcqh1TuQD"
   },
   "outputs": [
    {
     "name": "stdout",
     "output_type": "stream",
     "text": [
      "48000/48000 [==============================] - 35s 735us/step\n",
      "Train Loss:  0.33839200470844905 Train Accuracy:  0.8793125\n",
      "12000/12000 [==============================] - 8s 682us/step\n",
      "Test Loss:  0.3628753658930461 Test Accuracy:  0.8724166666666666\n"
     ]
    }
   ],
   "source": [
    "#Train - Accuracy & Loss\n",
    "train_loss, train_acuracy =newModel1.evaluate(x_train, y_train, verbose=1)\n",
    "print (\"Train Loss: \",train_loss, \"Train Accuracy: \",train_acuracy)\n",
    "\n",
    "#Test - Accuracy & Loss\n",
    "test_loss, test_acc = newModel1.evaluate(x_test, y_test, verbose=1)\n",
    "print (\"Test Loss: \", test_loss, \"Test Accuracy: \", test_acc)"
   ]
  },
  {
   "cell_type": "code",
   "execution_count": null,
   "metadata": {},
   "outputs": [],
   "source": []
  },
  {
   "cell_type": "code",
   "execution_count": null,
   "metadata": {},
   "outputs": [],
   "source": []
  }
 ],
 "metadata": {
  "colab": {
   "collapsed_sections": [],
   "name": "Fashion mnist.ipynb",
   "provenance": []
  },
  "kernelspec": {
   "display_name": "Python 3",
   "language": "python",
   "name": "python3"
  },
  "language_info": {
   "codemirror_mode": {
    "name": "ipython",
    "version": 3
   },
   "file_extension": ".py",
   "mimetype": "text/x-python",
   "name": "python",
   "nbconvert_exporter": "python",
   "pygments_lexer": "ipython3",
   "version": "3.7.9"
  }
 },
 "nbformat": 4,
 "nbformat_minor": 1
}
